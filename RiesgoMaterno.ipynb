{
 "cells": [
  {
   "cell_type": "markdown",
   "id": "5a1bd129",
   "metadata": {},
   "source": [
    "La mortalidad materna es uno de los problemas más consistentes a lo largo de los\n",
    "años, y aunque se da principalmente en países en vía de desarrollo, en los que por lo\n",
    "general se tienen malas condiciones de vida, lo que implica un pésimo monitoreo a\n",
    "las mujeres durante esta etapa de gestación, el problema se encuentra presente también en países desarrollados, presentando aumentos significativos en los últimos años.\n",
    "\n",
    "Según la literatura, existen diferentes factores que influyen en el aumento de estas complicaciones, que se dan principalmente en zonas rurales, donde se tiene poco acceso a recursos y atención adecuada prenatal y obstétrica especializada, además de la escasez de centros médicos con equipamiento adecuado para afrontar este tipo de situaciones. Sumado a ello, la presencia de condiciones preexistentes en las mujeres de la población de interés, como lo son la anemia, diabetes y obesidad [9, 11].\n",
    "\n",
    "A nivel global, ante esta problemática, los países buscan modelar esta situación con\n",
    "el objetivo de predecir y manejar el riesgo del parto prematuro. El problema surge cuando se analiza la población de interés, ya que resulta complicado evaluar a estas personas debido a las complicaciones económicas que esto implica. Por lo tanto, esto conlleva a que estas regiones utilicen modelos de predicción sencillos, basados en características\n",
    "rutinarias y fáciles de obtener [7]. \n",
    "\n",
    "Estos problemas se pueden evitar cuando, en las primeras etapas, se clasifican como\n",
    "situaciones de riesgo. Entonces, el objetivo de nosotros es identificar esos factores que\n",
    "pueden causar problemas en un futuro, mediante el uso de un modelo logístico, con el objetivo de tratar de resolver estos problemas comunes en zonas rurales de países en desarrollo.\n"
   ]
  },
  {
   "cell_type": "code",
   "execution_count": 22,
   "id": "2097ad1c",
   "metadata": {},
   "outputs": [],
   "source": [
    "import pandas as pd\n",
    "import numpy as np\n",
    " \n",
    "import openpyxl\n",
    "import os"
   ]
  },
  {
   "cell_type": "code",
   "execution_count": 23,
   "id": "ebbda5bf",
   "metadata": {},
   "outputs": [
    {
     "data": {
      "text/html": [
       "<div>\n",
       "<style scoped>\n",
       "    .dataframe tbody tr th:only-of-type {\n",
       "        vertical-align: middle;\n",
       "    }\n",
       "\n",
       "    .dataframe tbody tr th {\n",
       "        vertical-align: top;\n",
       "    }\n",
       "\n",
       "    .dataframe thead th {\n",
       "        text-align: right;\n",
       "    }\n",
       "</style>\n",
       "<table border=\"1\" class=\"dataframe\">\n",
       "  <thead>\n",
       "    <tr style=\"text-align: right;\">\n",
       "      <th></th>\n",
       "      <th>Age</th>\n",
       "      <th>SystolicBP</th>\n",
       "      <th>DiastolicBP</th>\n",
       "      <th>BS</th>\n",
       "      <th>BodyTemp</th>\n",
       "      <th>HeartRate</th>\n",
       "      <th>RiskLevel</th>\n",
       "    </tr>\n",
       "  </thead>\n",
       "  <tbody>\n",
       "    <tr>\n",
       "      <th>0</th>\n",
       "      <td>25</td>\n",
       "      <td>130</td>\n",
       "      <td>80</td>\n",
       "      <td>15.0</td>\n",
       "      <td>98.0</td>\n",
       "      <td>86</td>\n",
       "      <td>high risk</td>\n",
       "    </tr>\n",
       "    <tr>\n",
       "      <th>1</th>\n",
       "      <td>35</td>\n",
       "      <td>140</td>\n",
       "      <td>90</td>\n",
       "      <td>13.0</td>\n",
       "      <td>98.0</td>\n",
       "      <td>70</td>\n",
       "      <td>high risk</td>\n",
       "    </tr>\n",
       "    <tr>\n",
       "      <th>2</th>\n",
       "      <td>29</td>\n",
       "      <td>90</td>\n",
       "      <td>70</td>\n",
       "      <td>8.0</td>\n",
       "      <td>100.0</td>\n",
       "      <td>80</td>\n",
       "      <td>high risk</td>\n",
       "    </tr>\n",
       "    <tr>\n",
       "      <th>3</th>\n",
       "      <td>30</td>\n",
       "      <td>140</td>\n",
       "      <td>85</td>\n",
       "      <td>7.0</td>\n",
       "      <td>98.0</td>\n",
       "      <td>70</td>\n",
       "      <td>high risk</td>\n",
       "    </tr>\n",
       "    <tr>\n",
       "      <th>4</th>\n",
       "      <td>35</td>\n",
       "      <td>120</td>\n",
       "      <td>60</td>\n",
       "      <td>6.1</td>\n",
       "      <td>98.0</td>\n",
       "      <td>76</td>\n",
       "      <td>low risk</td>\n",
       "    </tr>\n",
       "  </tbody>\n",
       "</table>\n",
       "</div>"
      ],
      "text/plain": [
       "   Age  SystolicBP  DiastolicBP    BS  BodyTemp  HeartRate  RiskLevel\n",
       "0   25         130           80  15.0      98.0         86  high risk\n",
       "1   35         140           90  13.0      98.0         70  high risk\n",
       "2   29          90           70   8.0     100.0         80  high risk\n",
       "3   30         140           85   7.0      98.0         70  high risk\n",
       "4   35         120           60   6.1      98.0         76   low risk"
      ]
     },
     "execution_count": 23,
     "metadata": {},
     "output_type": "execute_result"
    }
   ],
   "source": [
    "datos = pd.read_csv(\"Maternal Health Risk Data Set.csv\")\n",
    "datos.head()"
   ]
  },
  {
   "cell_type": "code",
   "execution_count": 24,
   "id": "66f4b6b5",
   "metadata": {},
   "outputs": [
    {
     "data": {
      "text/html": [
       "<div>\n",
       "<style scoped>\n",
       "    .dataframe tbody tr th:only-of-type {\n",
       "        vertical-align: middle;\n",
       "    }\n",
       "\n",
       "    .dataframe tbody tr th {\n",
       "        vertical-align: top;\n",
       "    }\n",
       "\n",
       "    .dataframe thead th {\n",
       "        text-align: right;\n",
       "    }\n",
       "</style>\n",
       "<table border=\"1\" class=\"dataframe\">\n",
       "  <thead>\n",
       "    <tr style=\"text-align: right;\">\n",
       "      <th></th>\n",
       "      <th>Age</th>\n",
       "      <th>SystolicBP</th>\n",
       "      <th>DiastolicBP</th>\n",
       "      <th>BS</th>\n",
       "      <th>BodyTemp</th>\n",
       "      <th>HeartRate</th>\n",
       "      <th>RiskLevel</th>\n",
       "      <th>RiesgoBinario</th>\n",
       "    </tr>\n",
       "  </thead>\n",
       "  <tbody>\n",
       "    <tr>\n",
       "      <th>0</th>\n",
       "      <td>25</td>\n",
       "      <td>130</td>\n",
       "      <td>80</td>\n",
       "      <td>15.0</td>\n",
       "      <td>98.0</td>\n",
       "      <td>86</td>\n",
       "      <td>high risk</td>\n",
       "      <td>1</td>\n",
       "    </tr>\n",
       "    <tr>\n",
       "      <th>1</th>\n",
       "      <td>35</td>\n",
       "      <td>140</td>\n",
       "      <td>90</td>\n",
       "      <td>13.0</td>\n",
       "      <td>98.0</td>\n",
       "      <td>70</td>\n",
       "      <td>high risk</td>\n",
       "      <td>1</td>\n",
       "    </tr>\n",
       "    <tr>\n",
       "      <th>2</th>\n",
       "      <td>29</td>\n",
       "      <td>90</td>\n",
       "      <td>70</td>\n",
       "      <td>8.0</td>\n",
       "      <td>100.0</td>\n",
       "      <td>80</td>\n",
       "      <td>high risk</td>\n",
       "      <td>1</td>\n",
       "    </tr>\n",
       "    <tr>\n",
       "      <th>3</th>\n",
       "      <td>30</td>\n",
       "      <td>140</td>\n",
       "      <td>85</td>\n",
       "      <td>7.0</td>\n",
       "      <td>98.0</td>\n",
       "      <td>70</td>\n",
       "      <td>high risk</td>\n",
       "      <td>1</td>\n",
       "    </tr>\n",
       "    <tr>\n",
       "      <th>4</th>\n",
       "      <td>35</td>\n",
       "      <td>120</td>\n",
       "      <td>60</td>\n",
       "      <td>6.1</td>\n",
       "      <td>98.0</td>\n",
       "      <td>76</td>\n",
       "      <td>low risk</td>\n",
       "      <td>0</td>\n",
       "    </tr>\n",
       "  </tbody>\n",
       "</table>\n",
       "</div>"
      ],
      "text/plain": [
       "   Age  SystolicBP  DiastolicBP    BS  BodyTemp  HeartRate  RiskLevel  \\\n",
       "0   25         130           80  15.0      98.0         86  high risk   \n",
       "1   35         140           90  13.0      98.0         70  high risk   \n",
       "2   29          90           70   8.0     100.0         80  high risk   \n",
       "3   30         140           85   7.0      98.0         70  high risk   \n",
       "4   35         120           60   6.1      98.0         76   low risk   \n",
       "\n",
       "   RiesgoBinario  \n",
       "0              1  \n",
       "1              1  \n",
       "2              1  \n",
       "3              1  \n",
       "4              0  "
      ]
     },
     "execution_count": 24,
     "metadata": {},
     "output_type": "execute_result"
    }
   ],
   "source": [
    "\n",
    "datos['RiesgoBinario'] = datos['RiskLevel'].apply(lambda x: 1 if x == \"high risk\" else 0)\n",
    "datos.head()\n"
   ]
  },
  {
   "cell_type": "code",
   "execution_count": 25,
   "id": "b0d0b861",
   "metadata": {},
   "outputs": [],
   "source": [
    "\n",
    "datos.columns = [\"Edad\",          # Age\n",
    "                 \"PresionSistolica\",  # SystolicBP\n",
    "  \"PresionDiastolica\", # DiastolicBP\n",
    "  \"Glucosa\",       # BS (Blood Sugar)\n",
    "  \"TemperaturaCorporal\", # BodyTemp\n",
    "  \"FrecuenciaCardiaca\",  # HeartRate\n",
    "  \"NivelRiesgo\",    # RiskLevel\n",
    "  \"RiesgoBinario\" ]"
   ]
  },
  {
   "cell_type": "code",
   "execution_count": 26,
   "id": "d0217472",
   "metadata": {},
   "outputs": [
    {
     "data": {
      "text/html": [
       "<div>\n",
       "<style scoped>\n",
       "    .dataframe tbody tr th:only-of-type {\n",
       "        vertical-align: middle;\n",
       "    }\n",
       "\n",
       "    .dataframe tbody tr th {\n",
       "        vertical-align: top;\n",
       "    }\n",
       "\n",
       "    .dataframe thead th {\n",
       "        text-align: right;\n",
       "    }\n",
       "</style>\n",
       "<table border=\"1\" class=\"dataframe\">\n",
       "  <thead>\n",
       "    <tr style=\"text-align: right;\">\n",
       "      <th></th>\n",
       "      <th>Edad</th>\n",
       "      <th>PresionSistolica</th>\n",
       "      <th>PresionDiastolica</th>\n",
       "      <th>Glucosa</th>\n",
       "      <th>TemperaturaCorporal</th>\n",
       "      <th>FrecuenciaCardiaca</th>\n",
       "      <th>RiesgoBinario</th>\n",
       "    </tr>\n",
       "  </thead>\n",
       "  <tbody>\n",
       "    <tr>\n",
       "      <th>count</th>\n",
       "      <td>1014.000000</td>\n",
       "      <td>1014.000000</td>\n",
       "      <td>1014.000000</td>\n",
       "      <td>1014.000000</td>\n",
       "      <td>1014.000000</td>\n",
       "      <td>1014.000000</td>\n",
       "      <td>1014.000000</td>\n",
       "    </tr>\n",
       "    <tr>\n",
       "      <th>mean</th>\n",
       "      <td>29.871795</td>\n",
       "      <td>113.198225</td>\n",
       "      <td>76.460552</td>\n",
       "      <td>8.725986</td>\n",
       "      <td>98.665089</td>\n",
       "      <td>74.301775</td>\n",
       "      <td>0.268245</td>\n",
       "    </tr>\n",
       "    <tr>\n",
       "      <th>std</th>\n",
       "      <td>13.474386</td>\n",
       "      <td>18.403913</td>\n",
       "      <td>13.885796</td>\n",
       "      <td>3.293532</td>\n",
       "      <td>1.371384</td>\n",
       "      <td>8.088702</td>\n",
       "      <td>0.443264</td>\n",
       "    </tr>\n",
       "    <tr>\n",
       "      <th>min</th>\n",
       "      <td>10.000000</td>\n",
       "      <td>70.000000</td>\n",
       "      <td>49.000000</td>\n",
       "      <td>6.000000</td>\n",
       "      <td>98.000000</td>\n",
       "      <td>7.000000</td>\n",
       "      <td>0.000000</td>\n",
       "    </tr>\n",
       "    <tr>\n",
       "      <th>25%</th>\n",
       "      <td>19.000000</td>\n",
       "      <td>100.000000</td>\n",
       "      <td>65.000000</td>\n",
       "      <td>6.900000</td>\n",
       "      <td>98.000000</td>\n",
       "      <td>70.000000</td>\n",
       "      <td>0.000000</td>\n",
       "    </tr>\n",
       "    <tr>\n",
       "      <th>50%</th>\n",
       "      <td>26.000000</td>\n",
       "      <td>120.000000</td>\n",
       "      <td>80.000000</td>\n",
       "      <td>7.500000</td>\n",
       "      <td>98.000000</td>\n",
       "      <td>76.000000</td>\n",
       "      <td>0.000000</td>\n",
       "    </tr>\n",
       "    <tr>\n",
       "      <th>75%</th>\n",
       "      <td>39.000000</td>\n",
       "      <td>120.000000</td>\n",
       "      <td>90.000000</td>\n",
       "      <td>8.000000</td>\n",
       "      <td>98.000000</td>\n",
       "      <td>80.000000</td>\n",
       "      <td>1.000000</td>\n",
       "    </tr>\n",
       "    <tr>\n",
       "      <th>max</th>\n",
       "      <td>70.000000</td>\n",
       "      <td>160.000000</td>\n",
       "      <td>100.000000</td>\n",
       "      <td>19.000000</td>\n",
       "      <td>103.000000</td>\n",
       "      <td>90.000000</td>\n",
       "      <td>1.000000</td>\n",
       "    </tr>\n",
       "  </tbody>\n",
       "</table>\n",
       "</div>"
      ],
      "text/plain": [
       "              Edad  PresionSistolica  PresionDiastolica      Glucosa  \\\n",
       "count  1014.000000       1014.000000        1014.000000  1014.000000   \n",
       "mean     29.871795        113.198225          76.460552     8.725986   \n",
       "std      13.474386         18.403913          13.885796     3.293532   \n",
       "min      10.000000         70.000000          49.000000     6.000000   \n",
       "25%      19.000000        100.000000          65.000000     6.900000   \n",
       "50%      26.000000        120.000000          80.000000     7.500000   \n",
       "75%      39.000000        120.000000          90.000000     8.000000   \n",
       "max      70.000000        160.000000         100.000000    19.000000   \n",
       "\n",
       "       TemperaturaCorporal  FrecuenciaCardiaca  RiesgoBinario  \n",
       "count          1014.000000         1014.000000    1014.000000  \n",
       "mean             98.665089           74.301775       0.268245  \n",
       "std               1.371384            8.088702       0.443264  \n",
       "min              98.000000            7.000000       0.000000  \n",
       "25%              98.000000           70.000000       0.000000  \n",
       "50%              98.000000           76.000000       0.000000  \n",
       "75%              98.000000           80.000000       1.000000  \n",
       "max             103.000000           90.000000       1.000000  "
      ]
     },
     "execution_count": 26,
     "metadata": {},
     "output_type": "execute_result"
    }
   ],
   "source": [
    "datos.columns\n",
    "datos.head()\n",
    "datos.describe()\n"
   ]
  },
  {
   "cell_type": "code",
   "execution_count": 39,
   "id": "ed462719",
   "metadata": {},
   "outputs": [],
   "source": [
    "###-----------------------------------\n",
    "### Categorizar Variables predictoras \n",
    "###-----------------------------------\n",
    "\n",
    "\n",
    "### Edad \n",
    "datos['EdadCat'] = pd.cut(\n",
    "    datos['Edad'],\n",
    "    bins=[0, 18, 45, np.inf],\n",
    "    labels=[\"MenorEdad\", \"AdultoJoven\", \"Adulto\"],\n",
    "    right=False \n",
    ")\n",
    "\n",
    "### Presión Sistólica \n",
    "datos['PresionSistolicaCat'] = pd.cut(\n",
    "    datos['PresionSistolica'],\n",
    "    bins=[0, 120, 140, np.inf],\n",
    "    labels=[\"Normal\", \"Elevada\", \"Hipertension\"],\n",
    "    right=False \n",
    ")\n"
   ]
  },
  {
   "cell_type": "code",
   "execution_count": 43,
   "id": "18f3b1ee",
   "metadata": {},
   "outputs": [],
   "source": [
    "\n",
    "### Presión Distólica \n",
    "datos['PresionDiastolicaCat'] = pd.cut(\n",
    "    datos['PresionDiastolica'],\n",
    "    bins=[0, 90, 100, np.inf],\n",
    "    labels=[\"Normal\", \"Hipertension1\", \"Hipertension2\"],\n",
    "    right=False \n",
    ")\n",
    "\n",
    "\n",
    "### Glucosa en sangre\n",
    "datos['GlucosaCat'] = pd.cut(\n",
    "    datos['Glucosa'],\n",
    "    bins=[0, 7.8, 11, np.inf],\n",
    "    labels=[\"Normal\", \"PreDiabetes\", \"Diabetes\"],\n",
    "    right=False \n",
    ")\n",
    "\n",
    "\n",
    "### Temperatura \n",
    "datos['TemperaturaCorporalCat'] = pd.cut(\n",
    "    datos['TemperaturaCorporal'],\n",
    "    bins=[0, 98.6, 102, np.inf],\n",
    "    labels=[\"Normal\", \"Febricula\", \"Fiebre\"],\n",
    "    right=False \n",
    ")\n",
    "\n",
    "\n",
    "### Frecuencia cardiaca \n",
    "datos['FrecuenciaCardiacaCat'] = pd.cut(\n",
    "    datos['FrecuenciaCardiaca'],\n",
    "    bins=[0, 81, 141, np.inf],\n",
    "    labels=[\"Normal\", \"Media\", \"Alta\"],\n",
    "    right=False \n",
    ")\n"
   ]
  },
  {
   "cell_type": "code",
   "execution_count": 45,
   "id": "ba133aa4",
   "metadata": {},
   "outputs": [
    {
     "data": {
      "text/plain": [
       "Index(['Edad', 'PresionSistolica', 'PresionDiastolica', 'Glucosa',\n",
       "       'TemperaturaCorporal', 'FrecuenciaCardiaca', 'NivelRiesgo',\n",
       "       'RiesgoBinario', 'EdadCat', 'PresionSistolicaCat',\n",
       "       'PresionDiastolicaCat', 'GlucosaCat', 'TemperaturaCorporalCat',\n",
       "       'FrecuenciaCardiacaCat'],\n",
       "      dtype='object')"
      ]
     },
     "execution_count": 45,
     "metadata": {},
     "output_type": "execute_result"
    }
   ],
   "source": [
    "datos.columns"
   ]
  },
  {
   "cell_type": "code",
   "execution_count": null,
   "id": "038b5a74",
   "metadata": {},
   "outputs": [],
   "source": [
    "import statsmodels.api as sm\n",
    "import statsmodels.formula.api as smf\n",
    "from sklearn.model_selection import train_test_split\n",
    "from statsmodels.stats.anova import anova_lm\n",
    "\n",
    "\n",
    "#### Datos de entrenamiento y prueba (70%-30%) \n",
    "train, test = train_test_split(\n",
    "    datos,\n",
    "    test_size=0.3,\n",
    "    stratify=datos['RiesgoBinario'],\n",
    "    random_state=123 \n",
    ")\n",
    "\n"
   ]
  },
  {
   "cell_type": "code",
   "execution_count": 51,
   "id": "702947b3",
   "metadata": {},
   "outputs": [
    {
     "name": "stdout",
     "output_type": "stream",
     "text": [
      "(709, 14) (305, 14)\n"
     ]
    }
   ],
   "source": [
    "print(train.shape, test.shape)"
   ]
  },
  {
   "cell_type": "markdown",
   "id": "b2ce7d01",
   "metadata": {},
   "source": [
    "Ajustamos el modelo utilizando la variables seleccionadas "
   ]
  },
  {
   "cell_type": "code",
   "execution_count": 55,
   "id": "ed314aab",
   "metadata": {},
   "outputs": [],
   "source": [
    "\n",
    "modelo = smf.glm(\n",
    "    formula=\"RiesgoBinario ~ EdadCat + PresionSistolicaCat + PresionDiastolicaCat + GlucosaCat + TemperaturaCorporalCat\",\n",
    "    data=train,\n",
    "    family=sm.families.Binomial()\n",
    ").fit()\n"
   ]
  },
  {
   "cell_type": "code",
   "execution_count": 59,
   "id": "83d934b2",
   "metadata": {},
   "outputs": [
    {
     "name": "stdout",
     "output_type": "stream",
     "text": [
      "                 Generalized Linear Model Regression Results                  \n",
      "==============================================================================\n",
      "Dep. Variable:          RiesgoBinario   No. Observations:                  709\n",
      "Model:                            GLM   Df Residuals:                      698\n",
      "Model Family:                Binomial   Df Model:                           10\n",
      "Link Function:                  Logit   Scale:                          1.0000\n",
      "Method:                          IRLS   Log-Likelihood:                -162.08\n",
      "Date:                Sat, 21 Jun 2025   Deviance:                       324.15\n",
      "Time:                        23:28:11   Pearson chi2:                     754.\n",
      "No. Iterations:                     7   Pseudo R-squ. (CS):             0.5060\n",
      "Covariance Type:            nonrobust                                         \n",
      "=========================================================================================================\n",
      "                                            coef    std err          z      P>|z|      [0.025      0.975]\n",
      "---------------------------------------------------------------------------------------------------------\n",
      "Intercept                                -3.8701      0.485     -7.982      0.000      -4.820      -2.920\n",
      "EdadCat[T.AdultoJoven]                    0.1407      0.444      0.317      0.751      -0.729       1.011\n",
      "EdadCat[T.Adulto]                        -1.2543      0.663     -1.893      0.058      -2.553       0.045\n",
      "PresionSistolicaCat[T.Elevada]           -0.5051      0.422     -1.198      0.231      -1.332       0.321\n",
      "PresionSistolicaCat[T.Hipertension]       5.6386      0.822      6.862      0.000       4.028       7.249\n",
      "PresionDiastolicaCat[T.Hipertension1]     0.0185      0.508      0.036      0.971      -0.976       1.013\n",
      "PresionDiastolicaCat[T.Hipertension2]     0.7374      0.642      1.149      0.251      -0.520       1.995\n",
      "GlucosaCat[T.PreDiabetes]                 1.5896      0.369      4.311      0.000       0.867       2.312\n",
      "GlucosaCat[T.Diabetes]                    5.7194      0.564     10.138      0.000       4.614       6.825\n",
      "TemperaturaCorporalCat[T.Febricula]       1.9998      0.436      4.590      0.000       1.146       2.854\n",
      "TemperaturaCorporalCat[T.Fiebre]          2.9019      0.510      5.694      0.000       1.903       3.901\n",
      "=========================================================================================================\n"
     ]
    }
   ],
   "source": [
    "print(modelo.summary())"
   ]
  },
  {
   "cell_type": "code",
   "execution_count": 69,
   "id": "7b98bc21",
   "metadata": {},
   "outputs": [
    {
     "data": {
      "text/plain": [
       "Intercept                                  0.020856\n",
       "EdadCat[T.AdultoJoven]                     1.151110\n",
       "EdadCat[T.Adulto]                          0.285281\n",
       "PresionSistolicaCat[T.Elevada]             0.603423\n",
       "PresionSistolicaCat[T.Hipertension]      281.056806\n",
       "PresionDiastolicaCat[T.Hipertension1]      1.018697\n",
       "PresionDiastolicaCat[T.Hipertension2]      2.090434\n",
       "GlucosaCat[T.PreDiabetes]                  4.901853\n",
       "GlucosaCat[T.Diabetes]                   304.711991\n",
       "TemperaturaCorporalCat[T.Febricula]        7.387856\n",
       "TemperaturaCorporalCat[T.Fiebre]          18.209237\n",
       "dtype: float64"
      ]
     },
     "execution_count": 69,
     "metadata": {},
     "output_type": "execute_result"
    }
   ],
   "source": [
    "modelo.params.apply(np.exp) ### ODDS"
   ]
  },
  {
   "cell_type": "code",
   "execution_count": null,
   "id": "ee24725f",
   "metadata": {},
   "outputs": [],
   "source": [
    "import numpy as np\n",
    "import pandas as pd\n",
    "from scipy.stats import chi2\n",
    "\n",
    "def hosmer_lemeshow_test(y_true, y_prob, g=10):\n",
    "    data = pd.DataFrame({'y': y_true, 'p': y_prob})\n",
    "    data['grupo'] = pd.qcut(data['p'], q=g, duplicates='drop')\n",
    "    resumen = data.groupby('grupo').agg(\n",
    "        eventos=('y', 'sum'),\n",
    "        total=('y', 'count'),\n",
    "        p_media=('p', 'mean')\n",
    "    )\n",
    "    resumen['no_eventos'] = resumen['total'] - resumen['eventos']\n",
    "    resumen['esperado_eventos'] = resumen['total'] * resumen['p_media']\n",
    "    resumen['esperado_no_eventos'] = resumen['total'] * (1 - resumen['p_media'])\n",
    "\n",
    "    hl_stat = (\n",
    "        (resumen['eventos'] - resumen['esperado_eventos'])**2 / resumen['esperado_eventos'] +\n",
    "        (resumen['no_eventos'] - resumen['esperado_no_eventos'])**2 / resumen['esperado_no_eventos']\n",
    "    ).sum()\n",
    "\n",
    "    gl = g - 2\n",
    "    p_value = chi2.sf(hl_stat, gl)\n",
    "\n",
    "    return hl_stat, p_value\n"
   ]
  },
  {
   "cell_type": "code",
   "execution_count": 73,
   "id": "100ddd81",
   "metadata": {},
   "outputs": [
    {
     "name": "stdout",
     "output_type": "stream",
     "text": [
      "Estadístico HL: 7.747, p-valor: 0.4585\n"
     ]
    },
    {
     "name": "stderr",
     "output_type": "stream",
     "text": [
      "C:\\Users\\Usuario\\AppData\\Local\\Temp\\ipykernel_14868\\1221743071.py:13: FutureWarning: The default of observed=False is deprecated and will be changed to True in a future version of pandas. Pass observed=False to retain current behavior or observed=True to adopt the future default and silence this warning.\n",
      "  resumen = data.groupby('grupo').agg(\n"
     ]
    }
   ],
   "source": [
    "prob_train = modelo.predict()\n",
    "y_train = train['RiesgoBinario']\n",
    "hl_stat, p_val = hosmer_lemeshow_test(y_train, prob_train, g=10)\n",
    "\n",
    "print(f'Estadístico HL: {hl_stat:.3f}, p-valor: {p_val:.4f}')\n"
   ]
  },
  {
   "cell_type": "code",
   "execution_count": 74,
   "id": "ac6ee5c4",
   "metadata": {},
   "outputs": [
    {
     "data": {
      "image/png": "[encoded data removed]",
      "text/plain": [
       "<Figure size 600x500 with 1 Axes>"
      ]
     },
     "metadata": {},
     "output_type": "display_data"
    }
   ],
   "source": [
    "from sklearn.metrics import roc_curve, roc_auc_score\n",
    "import matplotlib.pyplot as plt\n",
    "\n",
    "### 1. Obtener probabilidades del modelo en el conjunto de prueba\n",
    "prob_test = modelo.predict(test)\n",
    "\n",
    "# 2. Valores verdaderos\n",
    "y_test = test['RiesgoBinario']\n",
    "\n",
    "# 3. Curva ROC: obtener FPR, TPR\n",
    "fpr, tpr, thresholds = roc_curve(y_test, prob_test)\n",
    "\n",
    "# 4. AUC\n",
    "auc = roc_auc_score(y_test, prob_test)\n",
    "\n",
    "# 5. Graficar la curva ROC\n",
    "plt.figure(figsize=(6, 5))\n",
    "plt.plot(fpr, tpr, color='blue', lw=2, label=f'AUC = {auc:.3f}')\n",
    "plt.plot([0, 1], [0, 1], color='gray', lw=1, linestyle='--')\n",
    "plt.xlabel(\"Tasa de falsos positivos (1 - Especificidad)\")\n",
    "plt.ylabel(\"Tasa de verdaderos positivos (Sensibilidad)\")\n",
    "plt.title(\"Curva ROC\")\n",
    "plt.legend(loc=\"lower right\")\n",
    "plt.grid(True)\n",
    "plt.tight_layout()\n",
    "plt.show()\n"
   ]
  },
  {
   "cell_type": "code",
   "execution_count": 75,
   "id": "e0d3f01f",
   "metadata": {},
   "outputs": [],
   "source": [
    "### Predicciones y valores reales\n",
    "df = pd.DataFrame({\n",
    "    'prob': prob_test,\n",
    "    'real': test['RiesgoBinario']\n",
    "})\n",
    "\n",
    "df['grupo'] = pd.qcut(df['prob'], q=10, labels=False, duplicates='drop')\n",
    "df_plot = df.groupby('grupo').agg(\n",
    "    probs_medias=('prob', 'mean'),\n",
    "    prop_observada=('real', 'mean')\n",
    ").reset_index()"
   ]
  },
  {
   "cell_type": "code",
   "execution_count": null,
   "id": "1af67944",
   "metadata": {},
   "outputs": [
    {
     "data": {
      "image/png": "[encoded data removed]",
      "text/plain": [
       "<Figure size 600x500 with 1 Axes>"
      ]
     },
     "metadata": {},
     "output_type": "display_data"
    }
   ],
   "source": [
    "\n",
    "plt.figure(figsize=(6, 5))\n",
    "plt.plot(df_plot['probs_medias'], df_plot['prop_observada'], marker='o', linestyle='-')\n",
    "plt.plot([0, 1], [0, 1], linestyle='--', color='black')  \n",
    "\n",
    "plt.xlabel(\"Probabilidad predicha\")\n",
    "plt.ylabel(\"Frecuencia observada\")\n",
    "plt.title(\"Gráfica de calibración\")\n",
    "plt.xlim(0, 1)\n",
    "plt.ylim(0, 1)\n",
    "plt.grid(True)\n",
    "plt.tight_layout()\n",
    "plt.show()\n"
   ]
  },
  {
   "cell_type": "markdown",
   "id": "bfdefbab",
   "metadata": {},
   "source": [
    "Por último, se es necesario verificar la eficiencia del modelo mediante las metricas de desempeño y la matriz de confución  "
   ]
  },
  {
   "cell_type": "code",
   "execution_count": 78,
   "id": "291999ae",
   "metadata": {},
   "outputs": [],
   "source": [
    "from sklearn.metrics import confusion_matrix, classification_report\n",
    "\n",
    "clase_test = (prob_test >= 0.5).astype(int)\n",
    "y_real = test['RiesgoBinario']\n"
   ]
  },
  {
   "cell_type": "code",
   "execution_count": null,
   "id": "85e0e1a5",
   "metadata": {},
   "outputs": [
    {
     "data": {
      "text/plain": [
       "array([[205,  18],\n",
       "       [ 13,  69]])"
      ]
     },
     "execution_count": 80,
     "metadata": {},
     "output_type": "execute_result"
    }
   ],
   "source": [
    "confusion_matrix(y_real, clase_test, labels=[0, 1])\n"
   ]
  },
  {
   "cell_type": "code",
   "execution_count": 81,
   "id": "a90422f9",
   "metadata": {},
   "outputs": [
    {
     "name": "stdout",
     "output_type": "stream",
     "text": [
      "\n",
      "Reporte de clasificación:\n",
      "              precision    recall  f1-score   support\n",
      "\n",
      "           0      0.940     0.919     0.930       223\n",
      "           1      0.793     0.841     0.817        82\n",
      "\n",
      "    accuracy                          0.898       305\n",
      "   macro avg      0.867     0.880     0.873       305\n",
      "weighted avg      0.901     0.898     0.899       305\n",
      "\n"
     ]
    }
   ],
   "source": [
    "print(\"\\nReporte de clasificación:\")\n",
    "print(classification_report(y_real, clase_test, digits=3))\n"
   ]
  }
 ],
 "metadata": {
  "kernelspec": {
   "display_name": "sklearn-env",
   "language": "python",
   "name": "python3"
  },
  "language_info": {
   "codemirror_mode": {
    "name": "ipython",
    "version": 3
   },
   "file_extension": ".py",
   "mimetype": "text/x-python",
   "name": "python",
   "nbconvert_exporter": "python",
   "pygments_lexer": "ipython3",
   "version": "3.13.0"
  }
 },
 "nbformat": 4,
 "nbformat_minor": 5
}
